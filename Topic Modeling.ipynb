{
 "cells": [
  {
   "cell_type": "code",
   "execution_count": 1,
   "id": "b9a133ff",
   "metadata": {},
   "outputs": [],
   "source": [
    "import pandas as pd"
   ]
  },
  {
   "cell_type": "code",
   "execution_count": 2,
   "id": "654efeb2",
   "metadata": {},
   "outputs": [],
   "source": [
    "P_df = pd.read_excel('(정치)NewsResult_20180101-20221231.xlsx')\n",
    "E_df = pd.read_excel('(경제)NewsResult_20180101-20221231.xlsx')\n",
    "S_df = pd.read_excel('(사회)NewsResult_20180101-20221231.xlsx')\n",
    "T_df = pd.read_excel('(기술)NewsResult_20180101-20221231.xlsx')"
   ]
  },
  {
   "cell_type": "code",
   "execution_count": 3,
   "id": "c23cc417",
   "metadata": {},
   "outputs": [
    {
     "name": "stderr",
     "output_type": "stream",
     "text": [
      "/opt/conda/lib/python3.8/site-packages/past/types/oldstr.py:5: DeprecationWarning: Using or importing the ABCs from 'collections' instead of from 'collections.abc' is deprecated since Python 3.3, and in 3.9 it will stop working\n",
      "  from collections import Iterable\n",
      "/opt/conda/lib/python3.8/site-packages/past/builtins/misc.py:4: DeprecationWarning: Using or importing the ABCs from 'collections' instead of from 'collections.abc' is deprecated since Python 3.3, and in 3.9 it will stop working\n",
      "  from collections import Mapping\n"
     ]
    }
   ],
   "source": [
    "from konlpy.tag import Mecab\n",
    "from tqdm import tqdm\n",
    "\n",
    "from gensim.models.ldamodel import LdaModel\n",
    "from gensim.models.callbacks import CoherenceMetric\n",
    "from gensim import corpora\n",
    "from gensim.models.callbacks import PerplexityMetric\n",
    "from gensim.models.coherencemodel import CoherenceModel\n",
    "\n",
    "import logging\n",
    "import pickle\n",
    "import pyLDAvis.gensim\n",
    "import re\n",
    "import matplotlib.pyplot as plt"
   ]
  },
  {
   "cell_type": "code",
   "execution_count": 10,
   "id": "99157735",
   "metadata": {},
   "outputs": [
    {
     "name": "stderr",
     "output_type": "stream",
     "text": [
      "/opt/conda/lib/python3.8/site-packages/ipykernel/ipkernel.py:283: DeprecationWarning: `should_run_async` will not call `transform_cell` automatically in the future. Please pass the result to `transformed_cell` argument and any exception that happen during thetransform in `preprocessing_exc_tuple` in IPython 7.17 and above.\n",
      "  and should_run_async(code)\n"
     ]
    }
   ],
   "source": [
    "from sklearn.feature_extraction.text import CountVectorizer\n",
    "from sklearn.decomposition import LatentDirichletAllocation"
   ]
  },
  {
   "cell_type": "code",
   "execution_count": 18,
   "id": "33121896",
   "metadata": {
    "scrolled": true
   },
   "outputs": [
    {
     "name": "stderr",
     "output_type": "stream",
     "text": [
      "/opt/conda/lib/python3.8/site-packages/ipykernel/ipkernel.py:283: DeprecationWarning: `should_run_async` will not call `transform_cell` automatically in the future. Please pass the result to `transformed_cell` argument and any exception that happen during thetransform in `preprocessing_exc_tuple` in IPython 7.17 and above.\n",
      "  and should_run_async(code)\n"
     ]
    }
   ],
   "source": [
    "import itertools"
   ]
  },
  {
   "cell_type": "code",
   "execution_count": 45,
   "id": "48b5ab72",
   "metadata": {},
   "outputs": [
    {
     "name": "stderr",
     "output_type": "stream",
     "text": [
      "/opt/conda/lib/python3.8/site-packages/ipykernel/ipkernel.py:283: DeprecationWarning: `should_run_async` will not call `transform_cell` automatically in the future. Please pass the result to `transformed_cell` argument and any exception that happen during thetransform in `preprocessing_exc_tuple` in IPython 7.17 and above.\n",
      "  and should_run_async(code)\n"
     ]
    }
   ],
   "source": [
    "import re\n",
    "\n",
    "import matplotlib.pyplot as plt\n",
    "import gensim\n",
    "import tqdm"
   ]
  },
  {
   "cell_type": "code",
   "execution_count": 40,
   "id": "62b6fbda",
   "metadata": {},
   "outputs": [
    {
     "name": "stderr",
     "output_type": "stream",
     "text": [
      "/opt/conda/lib/python3.8/site-packages/ipykernel/ipkernel.py:283: DeprecationWarning: `should_run_async` will not call `transform_cell` automatically in the future. Please pass the result to `transformed_cell` argument and any exception that happen during thetransform in `preprocessing_exc_tuple` in IPython 7.17 and above.\n",
      "  and should_run_async(code)\n"
     ]
    }
   ],
   "source": [
    "def display_topics(model, feature_names, num_top_words):\n",
    "    for topic_index, topic in enumerate(model.components_):\n",
    "        print('Topic #', topic_index)\n",
    "\n",
    "        # components_ array에서 가장 값이 큰 순으로 정렬했을 때, 그 값의 array index를 반환. \n",
    "        topic_word_indexes = topic.argsort()[::-1]\n",
    "        top_indexes=topic_word_indexes[:num_top_words]\n",
    "        \n",
    "        # top_indexes대상인 index별로 feature_names에 해당하는 word feature 추출 후 join으로 concat\n",
    "        feature_concat = ' '.join([feature_names[i] for i in top_indexes])                \n",
    "        print(feature_concat)"
   ]
  },
  {
   "cell_type": "markdown",
   "id": "3c76ae1a",
   "metadata": {},
   "source": [
    "### P(정치)"
   ]
  },
  {
   "cell_type": "code",
   "execution_count": 49,
   "id": "ecb348fa",
   "metadata": {},
   "outputs": [
    {
     "name": "stderr",
     "output_type": "stream",
     "text": [
      "/opt/conda/lib/python3.8/site-packages/ipykernel/ipkernel.py:283: DeprecationWarning: `should_run_async` will not call `transform_cell` automatically in the future. Please pass the result to `transformed_cell` argument and any exception that happen during thetransform in `preprocessing_exc_tuple` in IPython 7.17 and above.\n",
      "  and should_run_async(code)\n"
     ]
    },
    {
     "data": {
      "text/plain": [
       "'국회 민생 외면 동료 방탄 처리 일몰 법안 약속 국회 약속 민생 방탄 동료 의원 몰두 비난 본회의 이날 국회 민생 직결 일몰법안 상정 체포동의안 노웅래 더불어민주당 의원 체포 동의 부결 국회의원 체포 동의 부결 국회 이날 본회의 일몰연장 무산 법안 안전운임제 추가연장근로제 건강보험국고지원 법안들 건강 보험 국고 지원 법안 통과 연내 본회의 사실 무산 제도 당장 내년 폐기 수순 전망 국회 연내 일몰 법안 처리 약속 현장 혼란 화물차 운전자 최저 임금 역할 안전운임제 폐지 화물차 운전자 위험운행 가능성 운송료 수입 화물연대 화물차 운전자 하루 시간 운전 장시간 과속 운전 사고 한국도로공사 고속도 화물차 사고원 1~3위 졸음 42% 태만 34% 과속 8% 운전 애초 정부 여당 화물연대 연장안 일몰 연장 제시 파업 입장 철회 방침 제도 야당 민주당 정부 여당 애초 약속 주장 진전 상황 추가연장근로제 일몰연장 불발 중소기업계 발등 분위기 미만 사업장 추가 근로 한시적 허용 제도 영세기업들 범법자 생산량 근로자들 임금 감소 예상 법안 여론 주목도 일몰 항목 포함 지방세관계법 지방세5법 개정안 국회 처리 감감무소식 법안 농업 사회복지 문화관광 수송교통 국토항 일몰항목 분야 일몰 항목 포함 국민들 실생활 연관 국회 외면 민생현장 곡소리 여야 일몰 연장 무산 공방 주호영 국민 원내대표 본회의 연장근로제 일몰 업체들 미만 업체 혼란 전적 민주당 고집 몽니 주장 원내대표 박홍근 민주당 원내 대표 국민 생명 안전 노동자 생명권 법안 정부여당 대통령 경호법 노조 응징법 비판'"
      ]
     },
     "execution_count": 49,
     "metadata": {},
     "output_type": "execute_result"
    }
   ],
   "source": [
    "re.sub(',', ' ', P_df['키워드'][0])"
   ]
  },
  {
   "cell_type": "code",
   "execution_count": 50,
   "id": "ed3e2271",
   "metadata": {},
   "outputs": [
    {
     "name": "stderr",
     "output_type": "stream",
     "text": [
      "/opt/conda/lib/python3.8/site-packages/ipykernel/ipkernel.py:283: DeprecationWarning: `should_run_async` will not call `transform_cell` automatically in the future. Please pass the result to `transformed_cell` argument and any exception that happen during thetransform in `preprocessing_exc_tuple` in IPython 7.17 and above.\n",
      "  and should_run_async(code)\n"
     ]
    }
   ],
   "source": [
    "P_tokenized = [re.sub(',', ' ', P_df['키워드'][i]) for i in range(len(P_df))]\n",
    "P_feat_vect = count_vectorizer.fit_transform(P_tokenized)"
   ]
  },
  {
   "cell_type": "code",
   "execution_count": 51,
   "id": "73986c84",
   "metadata": {},
   "outputs": [
    {
     "name": "stderr",
     "output_type": "stream",
     "text": [
      "/opt/conda/lib/python3.8/site-packages/ipykernel/ipkernel.py:283: DeprecationWarning: `should_run_async` will not call `transform_cell` automatically in the future. Please pass the result to `transformed_cell` argument and any exception that happen during thetransform in `preprocessing_exc_tuple` in IPython 7.17 and above.\n",
      "  and should_run_async(code)\n"
     ]
    },
    {
     "data": {
      "text/html": [
       "<style>#sk-container-id-3 {color: black;background-color: white;}#sk-container-id-3 pre{padding: 0;}#sk-container-id-3 div.sk-toggleable {background-color: white;}#sk-container-id-3 label.sk-toggleable__label {cursor: pointer;display: block;width: 100%;margin-bottom: 0;padding: 0.3em;box-sizing: border-box;text-align: center;}#sk-container-id-3 label.sk-toggleable__label-arrow:before {content: \"▸\";float: left;margin-right: 0.25em;color: #696969;}#sk-container-id-3 label.sk-toggleable__label-arrow:hover:before {color: black;}#sk-container-id-3 div.sk-estimator:hover label.sk-toggleable__label-arrow:before {color: black;}#sk-container-id-3 div.sk-toggleable__content {max-height: 0;max-width: 0;overflow: hidden;text-align: left;background-color: #f0f8ff;}#sk-container-id-3 div.sk-toggleable__content pre {margin: 0.2em;color: black;border-radius: 0.25em;background-color: #f0f8ff;}#sk-container-id-3 input.sk-toggleable__control:checked~div.sk-toggleable__content {max-height: 200px;max-width: 100%;overflow: auto;}#sk-container-id-3 input.sk-toggleable__control:checked~label.sk-toggleable__label-arrow:before {content: \"▾\";}#sk-container-id-3 div.sk-estimator input.sk-toggleable__control:checked~label.sk-toggleable__label {background-color: #d4ebff;}#sk-container-id-3 div.sk-label input.sk-toggleable__control:checked~label.sk-toggleable__label {background-color: #d4ebff;}#sk-container-id-3 input.sk-hidden--visually {border: 0;clip: rect(1px 1px 1px 1px);clip: rect(1px, 1px, 1px, 1px);height: 1px;margin: -1px;overflow: hidden;padding: 0;position: absolute;width: 1px;}#sk-container-id-3 div.sk-estimator {font-family: monospace;background-color: #f0f8ff;border: 1px dotted black;border-radius: 0.25em;box-sizing: border-box;margin-bottom: 0.5em;}#sk-container-id-3 div.sk-estimator:hover {background-color: #d4ebff;}#sk-container-id-3 div.sk-parallel-item::after {content: \"\";width: 100%;border-bottom: 1px solid gray;flex-grow: 1;}#sk-container-id-3 div.sk-label:hover label.sk-toggleable__label {background-color: #d4ebff;}#sk-container-id-3 div.sk-serial::before {content: \"\";position: absolute;border-left: 1px solid gray;box-sizing: border-box;top: 0;bottom: 0;left: 50%;z-index: 0;}#sk-container-id-3 div.sk-serial {display: flex;flex-direction: column;align-items: center;background-color: white;padding-right: 0.2em;padding-left: 0.2em;position: relative;}#sk-container-id-3 div.sk-item {position: relative;z-index: 1;}#sk-container-id-3 div.sk-parallel {display: flex;align-items: stretch;justify-content: center;background-color: white;position: relative;}#sk-container-id-3 div.sk-item::before, #sk-container-id-3 div.sk-parallel-item::before {content: \"\";position: absolute;border-left: 1px solid gray;box-sizing: border-box;top: 0;bottom: 0;left: 50%;z-index: -1;}#sk-container-id-3 div.sk-parallel-item {display: flex;flex-direction: column;z-index: 1;position: relative;background-color: white;}#sk-container-id-3 div.sk-parallel-item:first-child::after {align-self: flex-end;width: 50%;}#sk-container-id-3 div.sk-parallel-item:last-child::after {align-self: flex-start;width: 50%;}#sk-container-id-3 div.sk-parallel-item:only-child::after {width: 0;}#sk-container-id-3 div.sk-dashed-wrapped {border: 1px dashed gray;margin: 0 0.4em 0.5em 0.4em;box-sizing: border-box;padding-bottom: 0.4em;background-color: white;}#sk-container-id-3 div.sk-label label {font-family: monospace;font-weight: bold;display: inline-block;line-height: 1.2em;}#sk-container-id-3 div.sk-label-container {text-align: center;}#sk-container-id-3 div.sk-container {/* jupyter's `normalize.less` sets `[hidden] { display: none; }` but bootstrap.min.css set `[hidden] { display: none !important; }` so we also need the `!important` here to be able to override the default hidden behavior on the sphinx rendered scikit-learn.org. See: https://github.com/scikit-learn/scikit-learn/issues/21755 */display: inline-block !important;position: relative;}#sk-container-id-3 div.sk-text-repr-fallback {display: none;}</style><div id=\"sk-container-id-3\" class=\"sk-top-container\"><div class=\"sk-text-repr-fallback\"><pre>LatentDirichletAllocation(n_components=6)</pre><b>In a Jupyter environment, please rerun this cell to show the HTML representation or trust the notebook. <br />On GitHub, the HTML representation is unable to render, please try loading this page with nbviewer.org.</b></div><div class=\"sk-container\" hidden><div class=\"sk-item\"><div class=\"sk-estimator sk-toggleable\"><input class=\"sk-toggleable__control sk-hidden--visually\" id=\"sk-estimator-id-3\" type=\"checkbox\" checked><label for=\"sk-estimator-id-3\" class=\"sk-toggleable__label sk-toggleable__label-arrow\">LatentDirichletAllocation</label><div class=\"sk-toggleable__content\"><pre>LatentDirichletAllocation(n_components=6)</pre></div></div></div></div></div>"
      ],
      "text/plain": [
       "LatentDirichletAllocation(n_components=6)"
      ]
     },
     "execution_count": 51,
     "metadata": {},
     "output_type": "execute_result"
    }
   ],
   "source": [
    "lda = LatentDirichletAllocation(n_components=6)\n",
    "lda.fit(P_feat_vect)"
   ]
  },
  {
   "cell_type": "code",
   "execution_count": 52,
   "id": "b130d873",
   "metadata": {},
   "outputs": [
    {
     "name": "stdout",
     "output_type": "stream",
     "text": [
      "Topic # 0\n",
      "트럼프 미사일 트럼프 대통령 바이든 추석 일본 원전 기후 미군 달러 연휴 코로나19 안보 위협 대만 외교 발사 총리 러시아 명절\n",
      "Topic # 1\n",
      "박정희 광주 청년 혁신 호남 개혁 극복 소득 박정희 대통령 후보 이날 보수 출마 디지털 기본 교육 육성 일본 경쟁 창출 이재명 더불어민주당\n",
      "Topic # 2\n",
      "개성 회담 통일 김정은 대북 제재 경의선 관광 정상 회담 교류 판문점 올림픽 경협 동해선 북측 강원도 남한 금강산 정상회담 원산\n",
      "Topic # 3\n",
      "증액 예산안 대구 지역구 경북 심사 예타 공항 법안 soc 면제 가덕도 대전 충북 예비 총선 재정 특별법 한국당 세종\n",
      "Topic # 4\n",
      "통행료 국토부 주택 사고 운송 세종시 서울시 화물 부총리 지하 파업 연장 연대 거부 노선 한국도로공사 경부고속도로 업무 지하화 화물 연대\n",
      "Topic # 5\n",
      "검찰 수사 대장동 징계 후보자 원내 사장 혐의 법관 언론 회장 문건 투표 원내대표 권력 한국당 탄핵 경찰 수사관 변호사\n"
     ]
    },
    {
     "name": "stderr",
     "output_type": "stream",
     "text": [
      "/opt/conda/lib/python3.8/site-packages/ipykernel/ipkernel.py:283: DeprecationWarning: `should_run_async` will not call `transform_cell` automatically in the future. Please pass the result to `transformed_cell` argument and any exception that happen during thetransform in `preprocessing_exc_tuple` in IPython 7.17 and above.\n",
      "  and should_run_async(code)\n",
      "/opt/conda/lib/python3.8/site-packages/sklearn/utils/deprecation.py:87: FutureWarning: Function get_feature_names is deprecated; get_feature_names is deprecated in 1.0 and will be removed in 1.2. Please use get_feature_names_out instead.\n",
      "  warnings.warn(msg, category=FutureWarning)\n"
     ]
    }
   ],
   "source": [
    "# CountVectorizer객체내의 전체 word들의 명칭을 get_features_names( )를 통해 추출\n",
    "feature_names = count_vectorizer.get_feature_names()\n",
    "\n",
    "# Topic별 가장 연관도가 높은 word를 10개만 추출\n",
    "display_topics(lda, feature_names, 20)"
   ]
  },
  {
   "cell_type": "code",
   "execution_count": 76,
   "id": "ee1128ff",
   "metadata": {},
   "outputs": [
    {
     "name": "stderr",
     "output_type": "stream",
     "text": [
      "/opt/conda/lib/python3.8/site-packages/ipykernel/ipkernel.py:283: DeprecationWarning: `should_run_async` will not call `transform_cell` automatically in the future. Please pass the result to `transformed_cell` argument and any exception that happen during thetransform in `preprocessing_exc_tuple` in IPython 7.17 and above.\n",
      "  and should_run_async(code)\n",
      "<ipython-input-76-2ff7ca29eb32>:3: TqdmDeprecationWarning: This function will be removed in tqdm==5.0.0\n",
      "Please use `tqdm.notebook.tqdm` instead of `tqdm.tqdm_notebook`\n",
      "  for i in tqdm.tqdm_notebook(range(10, 25)):\n"
     ]
    },
    {
     "data": {
      "application/json": {
       "ascii": false,
       "bar_format": null,
       "colour": null,
       "elapsed": 0.04124164581298828,
       "initial": 0,
       "n": 0,
       "ncols": null,
       "nrows": null,
       "postfix": null,
       "prefix": "",
       "rate": null,
       "total": 15,
       "unit": "it",
       "unit_divisor": 1000,
       "unit_scale": false
      },
      "application/vnd.jupyter.widget-view+json": {
       "model_id": "819831c83f4544d18a11f5bfd918ffa7",
       "version_major": 2,
       "version_minor": 0
      },
      "text/plain": [
       "  0%|          | 0/15 [00:00<?, ?it/s]"
      ]
     },
     "metadata": {},
     "output_type": "display_data"
    }
   ],
   "source": [
    "perplexity_values = []\n",
    "\n",
    "for i in tqdm.tqdm_notebook(range(10, 25)):\n",
    "  ldamodel = LatentDirichletAllocation(n_components=i).fit(feat_vect).perplexity(P_feat_vect)\n",
    "  perplexity_values.append(ldamodel)"
   ]
  },
  {
   "cell_type": "code",
   "execution_count": 77,
   "id": "84dfbf39",
   "metadata": {},
   "outputs": [
    {
     "name": "stderr",
     "output_type": "stream",
     "text": [
      "/opt/conda/lib/python3.8/site-packages/ipykernel/ipkernel.py:283: DeprecationWarning: `should_run_async` will not call `transform_cell` automatically in the future. Please pass the result to `transformed_cell` argument and any exception that happen during thetransform in `preprocessing_exc_tuple` in IPython 7.17 and above.\n",
      "  and should_run_async(code)\n"
     ]
    },
    {
     "data": {
      "image/png": "[encoded data removed]",
      "text/plain": [
       "<Figure size 432x288 with 1 Axes>"
      ]
     },
     "metadata": {
      "needs_background": "light"
     },
     "output_type": "display_data"
    }
   ],
   "source": [
    "x = range(10, 25)\n",
    "plt.plot(x, perplexity_values)\n",
    "plt.show()"
   ]
  },
  {
   "cell_type": "code",
   "execution_count": 78,
   "id": "470c1a58",
   "metadata": {},
   "outputs": [
    {
     "name": "stderr",
     "output_type": "stream",
     "text": [
      "/opt/conda/lib/python3.8/site-packages/ipykernel/ipkernel.py:283: DeprecationWarning: `should_run_async` will not call `transform_cell` automatically in the future. Please pass the result to `transformed_cell` argument and any exception that happen during thetransform in `preprocessing_exc_tuple` in IPython 7.17 and above.\n",
      "  and should_run_async(code)\n"
     ]
    },
    {
     "name": "stdout",
     "output_type": "stream",
     "text": [
      "Topic # 0\n",
      "항목 레이더 고급 무료 체계 왕복 유럽 지점 lg 최소화 경쟁 입력 단위 소요 무상 사장 평균 대한민국 최소 조치\n",
      "Topic # 1\n",
      "치료제 추천 연구개발 솔루션 제공 공공 실험 소형 역사 통과 가지 마지막 신형 지식 편의점 의료 정체 제품 생산 연비 실현 연간\n",
      "Topic # 2\n",
      "임베디드 소프트웨어 로보택시 옵션 얘기 추월 고객들 인력 업무 점포 프랑스 추돌 논란 정확 교환 움직임 헬스 케어 무료 전파 이스라엘 확산\n",
      "Topic # 3\n",
      "계기판 현대모비스 차원 민간 번째 특별 인간 전장 느낌 웨이모 점검 바람 법인 조정 콘텐트 전송 소비 대학 보험 기지국\n",
      "Topic # 4\n",
      "경매 오른쪽 매출 40 독자 구분 예약 덕분 요청 구조 가상현실 커넥티드카 오토 예측 시승 계기 통제 유도 지분 지속적\n",
      "Topic # 5\n",
      "테마 충전소 영업 매출 코로나 먼지 테스트 개념 평소 프로그램 대화 발휘 오프라인 적극 모터 30 아프리카 종합 배달 특화\n",
      "Topic # 6\n",
      "ota 뉴딜 눈길 군집 개인 정보 자금 전면 정책 드론 다운로드 인수 표현 고속도로 주행 건물 완벽 거래 가입 트래픽 무선 문화\n",
      "Topic # 7\n",
      "산업 혁명 가솔린 덕분 요금 고속 데이터 경제 최적 유치 요소 편리 달성 상승 2년 교체 차이 석회 가지 입장 체험 레벨\n",
      "Topic # 8\n",
      "규정 승차감 동의 이용료 이탈 회의 여행 민간 데이터 고속도로 이용자 수도권 연휴 기간 규제 동영상 카드 이해 완성 업체 좌석 중앙 도움\n",
      "Topic # 9\n",
      "독일 무료 모듈 북한 도달 목적지 효율적 기계 반영 접속 건강 보장 보조금 별도 스마트시티 이야기 자사 반도체 보급 빅데이터\n",
      "Topic # 10\n",
      "기회 이달 시티 라디에이터 영역 커넥티드 배치 치열 나라 하드웨어 자원 서울시 보장 터보 평창 tv 공식 과장 비중 휴대\n",
      "Topic # 11\n",
      "확산 hud 제시 가입자 트렁크 레벨 수준 비중 넷플릭스 모빌리티 제약 iot 노블레스 최고 출력 핸들 기회 해결 드라이빙 트림 터널 벤츠\n",
      "Topic # 12\n",
      "헬스 운전자 개입 수도 vr 버전 한국도로공사 법안 미래차 반응 세대 그랜저 경로 경고 할당 의무 혜택 한계 할인 전문 기업 추천\n",
      "Topic # 13\n",
      "경쟁력 택시 도어 계약 간격 조명 국토교통부 오프라인 저장 우수 lg전자 건설 2019 내연 기관 국토부 사회 광고 도요타 유도 대책\n",
      "Topic # 14\n",
      "인포테인먼트 gv70 테마 다수 비전 lte 투입 카페 gv60 날씨 변속기 페달 임시 가량 채널 인프라 구축 메르세데스 시승 영국 2020년\n",
      "Topic # 15\n",
      "통신 서비스 통신망 미납 통행료 대책 경부고속도로 뒷좌석 드라마 목적 하이브리드 포드 배송 소개 미디어 헤드 목적지 의료 연휴 기간 법안 사이드미러 모니터링\n",
      "Topic # 16\n",
      "시연 vr 효율 용량 우버 표준 법안 우리나라 구글 조향 축적 lg유플러스 v2x 범위 검색 라인 음악 교통사고 주행 모드 ota\n",
      "Topic # 17\n",
      "주행보조 오류 지불 앞차 25 제도 특정 애플 전면 충전기 설립 소독제 논의 ev 교통량 음식 표준 11 문재인 ar\n",
      "Topic # 18\n",
      "승객 활동 스피커 탑승 텔레콤 단순 학습 맞춤 복합 인도 전기차 전용 시도 대역 사운드 블록체 하이 배치 지연 검사 웨이모\n",
      "Topic # 19\n",
      "외부 현상 비용 투싼 연속 현실 현지 skt 현황 에어컨 요구 출동 교체 사람들 머스크 하루 kt 차별화 평소 a씨\n",
      "Topic # 20\n",
      "주행 가능 지정 직원 가속 올림픽 애플리케이션 영국 차례 주행 거리 2020년 교체 솔루션 제공 gm 등록 다수 게임 3년 지구 지하철 주문\n",
      "Topic # 21\n",
      "서비스 이용 운송 휴대 기아자동차 시점 코로나19 클라우드 전기차 충전 ev6 크기 전년 여부 교체 에너지 표현 fsd 드론 주행 자동차 돼지 기아차\n",
      "Topic # 22\n",
      "국민 민간 코란도 보호 코로나 스타트업 스포츠 좌우 가정 진입 운전석 보험 통과 제품 생산 삼성전자 결제 휴대폰 스마트 크루즈 사망자 수입\n"
     ]
    }
   ],
   "source": [
    "lda = LatentDirichletAllocation(n_components=23)\n",
    "lda.fit(P_feat_vect)\n",
    "\n",
    "display_topics(lda, feature_names, 20)"
   ]
  },
  {
   "cell_type": "markdown",
   "id": "c66051a7",
   "metadata": {},
   "source": [
    "### E(경제)"
   ]
  },
  {
   "cell_type": "code",
   "execution_count": 57,
   "id": "febcbbb3",
   "metadata": {},
   "outputs": [
    {
     "name": "stderr",
     "output_type": "stream",
     "text": [
      "/opt/conda/lib/python3.8/site-packages/ipykernel/ipkernel.py:283: DeprecationWarning: `should_run_async` will not call `transform_cell` automatically in the future. Please pass the result to `transformed_cell` argument and any exception that happen during thetransform in `preprocessing_exc_tuple` in IPython 7.17 and above.\n",
      "  and should_run_async(code)\n"
     ]
    }
   ],
   "source": [
    "E_tokenized = [re.sub(',', ' ', E_df['키워드'][i]) for i in range(len(E_df))]\n",
    "E_feat_vect = count_vectorizer.fit_transform(E_tokenized)"
   ]
  },
  {
   "cell_type": "code",
   "execution_count": 59,
   "id": "2b592dcb",
   "metadata": {},
   "outputs": [
    {
     "name": "stderr",
     "output_type": "stream",
     "text": [
      "/opt/conda/lib/python3.8/site-packages/ipykernel/ipkernel.py:283: DeprecationWarning: `should_run_async` will not call `transform_cell` automatically in the future. Please pass the result to `transformed_cell` argument and any exception that happen during thetransform in `preprocessing_exc_tuple` in IPython 7.17 and above.\n",
      "  and should_run_async(code)\n"
     ]
    },
    {
     "data": {
      "text/html": [
       "<style>#sk-container-id-4 {color: black;background-color: white;}#sk-container-id-4 pre{padding: 0;}#sk-container-id-4 div.sk-toggleable {background-color: white;}#sk-container-id-4 label.sk-toggleable__label {cursor: pointer;display: block;width: 100%;margin-bottom: 0;padding: 0.3em;box-sizing: border-box;text-align: center;}#sk-container-id-4 label.sk-toggleable__label-arrow:before {content: \"▸\";float: left;margin-right: 0.25em;color: #696969;}#sk-container-id-4 label.sk-toggleable__label-arrow:hover:before {color: black;}#sk-container-id-4 div.sk-estimator:hover label.sk-toggleable__label-arrow:before {color: black;}#sk-container-id-4 div.sk-toggleable__content {max-height: 0;max-width: 0;overflow: hidden;text-align: left;background-color: #f0f8ff;}#sk-container-id-4 div.sk-toggleable__content pre {margin: 0.2em;color: black;border-radius: 0.25em;background-color: #f0f8ff;}#sk-container-id-4 input.sk-toggleable__control:checked~div.sk-toggleable__content {max-height: 200px;max-width: 100%;overflow: auto;}#sk-container-id-4 input.sk-toggleable__control:checked~label.sk-toggleable__label-arrow:before {content: \"▾\";}#sk-container-id-4 div.sk-estimator input.sk-toggleable__control:checked~label.sk-toggleable__label {background-color: #d4ebff;}#sk-container-id-4 div.sk-label input.sk-toggleable__control:checked~label.sk-toggleable__label {background-color: #d4ebff;}#sk-container-id-4 input.sk-hidden--visually {border: 0;clip: rect(1px 1px 1px 1px);clip: rect(1px, 1px, 1px, 1px);height: 1px;margin: -1px;overflow: hidden;padding: 0;position: absolute;width: 1px;}#sk-container-id-4 div.sk-estimator {font-family: monospace;background-color: #f0f8ff;border: 1px dotted black;border-radius: 0.25em;box-sizing: border-box;margin-bottom: 0.5em;}#sk-container-id-4 div.sk-estimator:hover {background-color: #d4ebff;}#sk-container-id-4 div.sk-parallel-item::after {content: \"\";width: 100%;border-bottom: 1px solid gray;flex-grow: 1;}#sk-container-id-4 div.sk-label:hover label.sk-toggleable__label {background-color: #d4ebff;}#sk-container-id-4 div.sk-serial::before {content: \"\";position: absolute;border-left: 1px solid gray;box-sizing: border-box;top: 0;bottom: 0;left: 50%;z-index: 0;}#sk-container-id-4 div.sk-serial {display: flex;flex-direction: column;align-items: center;background-color: white;padding-right: 0.2em;padding-left: 0.2em;position: relative;}#sk-container-id-4 div.sk-item {position: relative;z-index: 1;}#sk-container-id-4 div.sk-parallel {display: flex;align-items: stretch;justify-content: center;background-color: white;position: relative;}#sk-container-id-4 div.sk-item::before, #sk-container-id-4 div.sk-parallel-item::before {content: \"\";position: absolute;border-left: 1px solid gray;box-sizing: border-box;top: 0;bottom: 0;left: 50%;z-index: -1;}#sk-container-id-4 div.sk-parallel-item {display: flex;flex-direction: column;z-index: 1;position: relative;background-color: white;}#sk-container-id-4 div.sk-parallel-item:first-child::after {align-self: flex-end;width: 50%;}#sk-container-id-4 div.sk-parallel-item:last-child::after {align-self: flex-start;width: 50%;}#sk-container-id-4 div.sk-parallel-item:only-child::after {width: 0;}#sk-container-id-4 div.sk-dashed-wrapped {border: 1px dashed gray;margin: 0 0.4em 0.5em 0.4em;box-sizing: border-box;padding-bottom: 0.4em;background-color: white;}#sk-container-id-4 div.sk-label label {font-family: monospace;font-weight: bold;display: inline-block;line-height: 1.2em;}#sk-container-id-4 div.sk-label-container {text-align: center;}#sk-container-id-4 div.sk-container {/* jupyter's `normalize.less` sets `[hidden] { display: none; }` but bootstrap.min.css set `[hidden] { display: none !important; }` so we also need the `!important` here to be able to override the default hidden behavior on the sphinx rendered scikit-learn.org. See: https://github.com/scikit-learn/scikit-learn/issues/21755 */display: inline-block !important;position: relative;}#sk-container-id-4 div.sk-text-repr-fallback {display: none;}</style><div id=\"sk-container-id-4\" class=\"sk-top-container\"><div class=\"sk-text-repr-fallback\"><pre>LatentDirichletAllocation(n_components=6)</pre><b>In a Jupyter environment, please rerun this cell to show the HTML representation or trust the notebook. <br />On GitHub, the HTML representation is unable to render, please try loading this page with nbviewer.org.</b></div><div class=\"sk-container\" hidden><div class=\"sk-item\"><div class=\"sk-estimator sk-toggleable\"><input class=\"sk-toggleable__control sk-hidden--visually\" id=\"sk-estimator-id-4\" type=\"checkbox\" checked><label for=\"sk-estimator-id-4\" class=\"sk-toggleable__label sk-toggleable__label-arrow\">LatentDirichletAllocation</label><div class=\"sk-toggleable__content\"><pre>LatentDirichletAllocation(n_components=6)</pre></div></div></div></div></div>"
      ],
      "text/plain": [
       "LatentDirichletAllocation(n_components=6)"
      ]
     },
     "execution_count": 59,
     "metadata": {},
     "output_type": "execute_result"
    }
   ],
   "source": [
    "lda = LatentDirichletAllocation(n_components=6)\n",
    "lda.fit(E_feat_vect)"
   ]
  },
  {
   "cell_type": "code",
   "execution_count": 60,
   "id": "7d130507",
   "metadata": {},
   "outputs": [
    {
     "name": "stdout",
     "output_type": "stream",
     "text": [
      "Topic # 0\n",
      "자율 자율 주행 자율주행 사고 테슬라 중국 트럭 자율주행차 주행차 자율 주행차 에너지 레벨 주유소 배터리 센서 모빌리티 사람 화재 독일 bmw\n",
      "Topic # 1\n",
      "수소 충전소 일자리 에너지 반도체 수소차 부품 국가 중국 보급 혁신 전환 연료 예산 드론 발전 공장 충전기 사회 프로젝트\n",
      "Topic # 2\n",
      "가솔린 충돌 연비 제네시스 세단 하이브리드 출력 기아차 시트 디젤 시승 느낌 트림 차체 등급 신형 사양 터보 모습 모드\n",
      "Topic # 3\n",
      "통행료 연휴 할인 추석 코로나19 인하 대책 결제 감소 지급 요금 면제 공사 시행 인상 매장 영위 카드 혜택 은행\n",
      "Topic # 4\n",
      "토지 상가 지식 지식산업센터 지식 산업 산업 센터 판교 타이어 업무 그린벨트 매각 상업 점검 타워 연면적 부지 상업시설 건물 땅값 조합\n",
      "Topic # 5\n",
      "오피스텔 gtx 교통망 전용면적 공원 임대 광역 힐스테이트 호재 분양가 수요자들 도보 검단 용인 연장 집값 lh 커뮤니티 양주 84\n"
     ]
    },
    {
     "name": "stderr",
     "output_type": "stream",
     "text": [
      "/opt/conda/lib/python3.8/site-packages/ipykernel/ipkernel.py:283: DeprecationWarning: `should_run_async` will not call `transform_cell` automatically in the future. Please pass the result to `transformed_cell` argument and any exception that happen during thetransform in `preprocessing_exc_tuple` in IPython 7.17 and above.\n",
      "  and should_run_async(code)\n"
     ]
    }
   ],
   "source": [
    "# CountVectorizer객체내의 전체 word들의 명칭을 get_features_names( )를 통해 추출\n",
    "feature_names = count_vectorizer.get_feature_names()\n",
    "\n",
    "# Topic별 가장 연관도가 높은 word를 10개만 추출\n",
    "display_topics(lda, feature_names, 20)"
   ]
  },
  {
   "cell_type": "code",
   "execution_count": 79,
   "id": "52e702ea",
   "metadata": {},
   "outputs": [
    {
     "name": "stderr",
     "output_type": "stream",
     "text": [
      "/opt/conda/lib/python3.8/site-packages/ipykernel/ipkernel.py:283: DeprecationWarning: `should_run_async` will not call `transform_cell` automatically in the future. Please pass the result to `transformed_cell` argument and any exception that happen during thetransform in `preprocessing_exc_tuple` in IPython 7.17 and above.\n",
      "  and should_run_async(code)\n",
      "<ipython-input-79-caa090db4b56>:3: TqdmDeprecationWarning: This function will be removed in tqdm==5.0.0\n",
      "Please use `tqdm.notebook.tqdm` instead of `tqdm.tqdm_notebook`\n",
      "  for i in tqdm.tqdm_notebook(range(10, 25)):\n"
     ]
    },
    {
     "data": {
      "application/json": {
       "ascii": false,
       "bar_format": null,
       "colour": null,
       "elapsed": 0.040746450424194336,
       "initial": 0,
       "n": 0,
       "ncols": null,
       "nrows": null,
       "postfix": null,
       "prefix": "",
       "rate": null,
       "total": 15,
       "unit": "it",
       "unit_divisor": 1000,
       "unit_scale": false
      },
      "application/vnd.jupyter.widget-view+json": {
       "model_id": "5130f894f1b24badbad401e93b0d96dd",
       "version_major": 2,
       "version_minor": 0
      },
      "text/plain": [
       "  0%|          | 0/15 [00:00<?, ?it/s]"
      ]
     },
     "metadata": {},
     "output_type": "display_data"
    }
   ],
   "source": [
    "perplexity_values = []\n",
    "\n",
    "for i in tqdm.tqdm_notebook(range(10, 25)):\n",
    "  ldamodel = LatentDirichletAllocation(n_components=i).fit(feat_vect).perplexity(E_feat_vect)\n",
    "  perplexity_values.append(ldamodel)"
   ]
  },
  {
   "cell_type": "code",
   "execution_count": 80,
   "id": "70a0e9c5",
   "metadata": {},
   "outputs": [
    {
     "name": "stderr",
     "output_type": "stream",
     "text": [
      "/opt/conda/lib/python3.8/site-packages/ipykernel/ipkernel.py:283: DeprecationWarning: `should_run_async` will not call `transform_cell` automatically in the future. Please pass the result to `transformed_cell` argument and any exception that happen during thetransform in `preprocessing_exc_tuple` in IPython 7.17 and above.\n",
      "  and should_run_async(code)\n"
     ]
    },
    {
     "data": {
      "image/png": "[encoded data removed]",
      "text/plain": [
       "<Figure size 432x288 with 1 Axes>"
      ]
     },
     "metadata": {
      "needs_background": "light"
     },
     "output_type": "display_data"
    }
   ],
   "source": [
    "x = range(10, 25)\n",
    "plt.plot(x, perplexity_values)\n",
    "plt.show()"
   ]
  },
  {
   "cell_type": "code",
   "execution_count": 82,
   "id": "83d92d14",
   "metadata": {},
   "outputs": [
    {
     "name": "stderr",
     "output_type": "stream",
     "text": [
      "/opt/conda/lib/python3.8/site-packages/ipykernel/ipkernel.py:283: DeprecationWarning: `should_run_async` will not call `transform_cell` automatically in the future. Please pass the result to `transformed_cell` argument and any exception that happen during thetransform in `preprocessing_exc_tuple` in IPython 7.17 and above.\n",
      "  and should_run_async(code)\n"
     ]
    },
    {
     "name": "stdout",
     "output_type": "stream",
     "text": [
      "Topic # 0\n",
      "고속 다수 평소 스마트 크루즈 목소리 하드웨어 방역 아이오닉 뉴딜 단위 입장 시설 생산 업체 lg 헤드 허용 선언 지정 서버 로보택시\n",
      "Topic # 1\n",
      "전장 매출 흐름 공공 본격적 측면 skt gv70 모양 반영 v2x 수집 통행료 조정 무료 검사 컬러 유럽 페이스북 단속\n",
      "Topic # 2\n",
      "완성 업체 lg유플러스 지분 지속 지불 사건 건강 얘기 과학기술정보통신부 영역 긴급 기지국 공항 현대자동차 트래픽 개방 업무 사업자 건물 솔루션 제공\n",
      "Topic # 3\n",
      "추석 정차 가량 동력 바퀴 기록 통신 서비스 실현 블랙박스 전송 세계적 프레스티지 콘텐트 날씨 mbps 질문 추세 동물용 의약품 급증 scc\n",
      "Topic # 4\n",
      "일본 효율적 동영상 접근 할당 컨트롤 스마트 비행 시야 대표적 점검 차세대 구동 iot 고속도로 주행 교환 비전 배송 서버 한국도로공사 일상\n",
      "Topic # 5\n",
      "시행 시티 노블레스 만족 영국 소음 가동 신고 진료 차례 세계적 독일 움직임 발휘 부사장 최신 경쟁력 kg 시내 재난\n",
      "Topic # 6\n",
      "미납 제작 도어 바이오 의무 발굴 운전대 레이더 치료제 제시 사례 드론 전문가 제약 오토 신차 소재 경찰 커넥티드카 폭스바겐\n",
      "Topic # 7\n",
      "클러스터 택시 검토 소통 솔루션 sk 텔레콤 보조금 ict 승용차 자율주행 자율 cctv 대표적 날씨 승인 자연 전문가 자원 편의성 맞춤 프랑스\n",
      "Topic # 8\n",
      "온도 그동안 음성 지시 부처 위원회 개별 불법 카카오 중형 달성 금액 변속 사회 정책 전기차 전용 로보택시 창업 자료 국산\n",
      "Topic # 9\n",
      "톨게이트 동급 형성 협업 운전자들 충돌 방지 방지 보조 인공 지능 마지막 출발 전문가 소형 주차 화폐 주행 가능 급속 순간 마력 보조금 대체\n",
      "Topic # 10\n",
      "타입 사망자 트럭 국회 레벨 수준 직원 사업자 보험 보안 하루 그랜저 사물 결정 개정안 동의 사운드 사용자 현대차그룹 선정 운전대\n",
      "Topic # 11\n",
      "매체 영국 프레스티지 아프리카 레벨 자율 최신 가입자 신고 정확 충전소 램프 효율 시내 사회 여행 동물용 의약품 현상 모터 배달 돌입\n",
      "Topic # 12\n",
      "에너지 수도권 연비 주력 가상현실 코란도 절감 미래차 연속 수술 컴퓨터 보조금 전면부 후방 적극 반도체 기아차 반복 저장 점검\n",
      "Topic # 13\n",
      "sk텔레콤 일정 이해 임베디드 우버 모빌리티 실험 싼타페 현대모비스 운전자 개입 빅데이터 메르세데스 벤츠 통신망 방안 gv60 06 창업 본격적 ar 무인\n",
      "Topic # 14\n",
      "수도권 법인 수술 버튼 축적 내연 목적 수소 교체 25 2만 대중교통 가입 바람 해결 현대모비스 30 a씨 수요 보장\n",
      "Topic # 15\n",
      "축적 추천 어린이 리터 목적지 무게 발사 전달 수도권 추월 수소 전기차 수요 핸들 경찰 반대 플러스 버튼 화폐 석회 gv60\n",
      "Topic # 16\n",
      "반응 공기 주행 자동차 kt 유명 회의 기록 전면 트림 할인 이용자 led 평창 제작 안내 급증 연구진 스마트시티 핸들 경고\n",
      "Topic # 17\n",
      "테스트 영향 최대 토크 피해 인상 마력 최대 달성 마음 최소 경로 카카오 충격 경제 현대모비스 우버 중형 영화 대전 영역 자금\n",
      "Topic # 18\n",
      "불가능 주행 자동차 kg 홍보 인치 우주 등장 시동 유리 데이터 고속도로 광고 위성 예방 조성 지시 vehicle 다수 행사 기초 애플리케이션\n",
      "Topic # 19\n",
      "아이폰 세상 편안 카드 가정 의약품 전동 가지 과거 오토파일럿 표준 보도 교육 레벨3 콘텐츠 단순 영업 카카오 트럭 15\n",
      "Topic # 20\n",
      "교환 헬스 개통 오토 주행 성능 참석 무료 유튜브 미래차 환자 타이어 tv 범위 주행 트럭 차별화 원활 스마트시티 차세대 시각 거래\n",
      "Topic # 21\n",
      "자연 자원 자율주행 자율 주행 거리 드라이브 자유 자회사 매장 항목 외부 소개 요구 사이트 진료 누적 iot 불법 사이드미러 충돌 방지 클러스터\n"
     ]
    }
   ],
   "source": [
    "lda = LatentDirichletAllocation(n_components=22)\n",
    "lda.fit(E_feat_vect)\n",
    "\n",
    "display_topics(lda, feature_names, 20)"
   ]
  },
  {
   "cell_type": "markdown",
   "id": "3a060001",
   "metadata": {},
   "source": [
    "### S(사회)"
   ]
  },
  {
   "cell_type": "code",
   "execution_count": 64,
   "id": "47f2aca0",
   "metadata": {},
   "outputs": [
    {
     "name": "stderr",
     "output_type": "stream",
     "text": [
      "/opt/conda/lib/python3.8/site-packages/ipykernel/ipkernel.py:283: DeprecationWarning: `should_run_async` will not call `transform_cell` automatically in the future. Please pass the result to `transformed_cell` argument and any exception that happen during thetransform in `preprocessing_exc_tuple` in IPython 7.17 and above.\n",
      "  and should_run_async(code)\n"
     ]
    }
   ],
   "source": [
    "S_tokenized = [re.sub(',', ' ', E_df['키워드'][i]) for i in range(len(S_df))]\n",
    "S_feat_vect = count_vectorizer.fit_transform(S_tokenized)"
   ]
  },
  {
   "cell_type": "code",
   "execution_count": 65,
   "id": "9aa0d7eb",
   "metadata": {},
   "outputs": [
    {
     "name": "stderr",
     "output_type": "stream",
     "text": [
      "/opt/conda/lib/python3.8/site-packages/ipykernel/ipkernel.py:283: DeprecationWarning: `should_run_async` will not call `transform_cell` automatically in the future. Please pass the result to `transformed_cell` argument and any exception that happen during thetransform in `preprocessing_exc_tuple` in IPython 7.17 and above.\n",
      "  and should_run_async(code)\n"
     ]
    },
    {
     "data": {
      "text/html": [
       "<style>#sk-container-id-5 {color: black;background-color: white;}#sk-container-id-5 pre{padding: 0;}#sk-container-id-5 div.sk-toggleable {background-color: white;}#sk-container-id-5 label.sk-toggleable__label {cursor: pointer;display: block;width: 100%;margin-bottom: 0;padding: 0.3em;box-sizing: border-box;text-align: center;}#sk-container-id-5 label.sk-toggleable__label-arrow:before {content: \"▸\";float: left;margin-right: 0.25em;color: #696969;}#sk-container-id-5 label.sk-toggleable__label-arrow:hover:before {color: black;}#sk-container-id-5 div.sk-estimator:hover label.sk-toggleable__label-arrow:before {color: black;}#sk-container-id-5 div.sk-toggleable__content {max-height: 0;max-width: 0;overflow: hidden;text-align: left;background-color: #f0f8ff;}#sk-container-id-5 div.sk-toggleable__content pre {margin: 0.2em;color: black;border-radius: 0.25em;background-color: #f0f8ff;}#sk-container-id-5 input.sk-toggleable__control:checked~div.sk-toggleable__content {max-height: 200px;max-width: 100%;overflow: auto;}#sk-container-id-5 input.sk-toggleable__control:checked~label.sk-toggleable__label-arrow:before {content: \"▾\";}#sk-container-id-5 div.sk-estimator input.sk-toggleable__control:checked~label.sk-toggleable__label {background-color: #d4ebff;}#sk-container-id-5 div.sk-label input.sk-toggleable__control:checked~label.sk-toggleable__label {background-color: #d4ebff;}#sk-container-id-5 input.sk-hidden--visually {border: 0;clip: rect(1px 1px 1px 1px);clip: rect(1px, 1px, 1px, 1px);height: 1px;margin: -1px;overflow: hidden;padding: 0;position: absolute;width: 1px;}#sk-container-id-5 div.sk-estimator {font-family: monospace;background-color: #f0f8ff;border: 1px dotted black;border-radius: 0.25em;box-sizing: border-box;margin-bottom: 0.5em;}#sk-container-id-5 div.sk-estimator:hover {background-color: #d4ebff;}#sk-container-id-5 div.sk-parallel-item::after {content: \"\";width: 100%;border-bottom: 1px solid gray;flex-grow: 1;}#sk-container-id-5 div.sk-label:hover label.sk-toggleable__label {background-color: #d4ebff;}#sk-container-id-5 div.sk-serial::before {content: \"\";position: absolute;border-left: 1px solid gray;box-sizing: border-box;top: 0;bottom: 0;left: 50%;z-index: 0;}#sk-container-id-5 div.sk-serial {display: flex;flex-direction: column;align-items: center;background-color: white;padding-right: 0.2em;padding-left: 0.2em;position: relative;}#sk-container-id-5 div.sk-item {position: relative;z-index: 1;}#sk-container-id-5 div.sk-parallel {display: flex;align-items: stretch;justify-content: center;background-color: white;position: relative;}#sk-container-id-5 div.sk-item::before, #sk-container-id-5 div.sk-parallel-item::before {content: \"\";position: absolute;border-left: 1px solid gray;box-sizing: border-box;top: 0;bottom: 0;left: 50%;z-index: -1;}#sk-container-id-5 div.sk-parallel-item {display: flex;flex-direction: column;z-index: 1;position: relative;background-color: white;}#sk-container-id-5 div.sk-parallel-item:first-child::after {align-self: flex-end;width: 50%;}#sk-container-id-5 div.sk-parallel-item:last-child::after {align-self: flex-start;width: 50%;}#sk-container-id-5 div.sk-parallel-item:only-child::after {width: 0;}#sk-container-id-5 div.sk-dashed-wrapped {border: 1px dashed gray;margin: 0 0.4em 0.5em 0.4em;box-sizing: border-box;padding-bottom: 0.4em;background-color: white;}#sk-container-id-5 div.sk-label label {font-family: monospace;font-weight: bold;display: inline-block;line-height: 1.2em;}#sk-container-id-5 div.sk-label-container {text-align: center;}#sk-container-id-5 div.sk-container {/* jupyter's `normalize.less` sets `[hidden] { display: none; }` but bootstrap.min.css set `[hidden] { display: none !important; }` so we also need the `!important` here to be able to override the default hidden behavior on the sphinx rendered scikit-learn.org. See: https://github.com/scikit-learn/scikit-learn/issues/21755 */display: inline-block !important;position: relative;}#sk-container-id-5 div.sk-text-repr-fallback {display: none;}</style><div id=\"sk-container-id-5\" class=\"sk-top-container\"><div class=\"sk-text-repr-fallback\"><pre>LatentDirichletAllocation(n_components=6)</pre><b>In a Jupyter environment, please rerun this cell to show the HTML representation or trust the notebook. <br />On GitHub, the HTML representation is unable to render, please try loading this page with nbviewer.org.</b></div><div class=\"sk-container\" hidden><div class=\"sk-item\"><div class=\"sk-estimator sk-toggleable\"><input class=\"sk-toggleable__control sk-hidden--visually\" id=\"sk-estimator-id-5\" type=\"checkbox\" checked><label for=\"sk-estimator-id-5\" class=\"sk-toggleable__label sk-toggleable__label-arrow\">LatentDirichletAllocation</label><div class=\"sk-toggleable__content\"><pre>LatentDirichletAllocation(n_components=6)</pre></div></div></div></div></div>"
      ],
      "text/plain": [
       "LatentDirichletAllocation(n_components=6)"
      ]
     },
     "execution_count": 65,
     "metadata": {},
     "output_type": "execute_result"
    }
   ],
   "source": [
    "lda = LatentDirichletAllocation(n_components=6)\n",
    "lda.fit(S_feat_vect)"
   ]
  },
  {
   "cell_type": "code",
   "execution_count": 66,
   "id": "ed6d49f7",
   "metadata": {},
   "outputs": [
    {
     "name": "stdout",
     "output_type": "stream",
     "text": [
      "Topic # 0\n",
      "등급 제네시스 주유소 차종 현대차그룹 gv80 기아 아이오닉 지식 iihs 경차 현대 지식 산업 지식산업센터 베트남 산업 센터 요소수 ev6 tsp 배터리\n",
      "Topic # 1\n",
      "추석 통행료 연휴 할인 대책 감소 드론 지급 요금 버스 결제 인상 물가 매장 매출 화물차 금융 전년 코로나 인하\n",
      "Topic # 2\n",
      "자율 자율 주행 테슬라 자율주행 레벨 트럭 모빌리티 소프트웨어 부품 자율주행차 주행차 자율 주행차 센서 카메라 솔루션 adas 완전 통신 데이터 스마트카\n",
      "Topic # 3\n",
      "수소 충전소 중국 반도체 수소차 연료 일자리 보급 충전기 부품 공장 후보 보조금 배터리 가스 혁신 전략 수출 전지 디지털\n",
      "Topic # 4\n",
      "오피스텔 gtx 강남 일대 노선 전용 면적 교통망 힐스테이트 공원 임대 상업 호재 특화 전용면적 분양가 양평 도보 커뮤니티 민간 광역\n",
      "Topic # 5\n",
      "가솔린 연비 하이브리드 시트 출력 세단 시승 느낌 터보 신형 트림 사양 모드 영위 모습 내비게이션 토크 타이어 차체 디젤\n"
     ]
    },
    {
     "name": "stderr",
     "output_type": "stream",
     "text": [
      "/opt/conda/lib/python3.8/site-packages/ipykernel/ipkernel.py:283: DeprecationWarning: `should_run_async` will not call `transform_cell` automatically in the future. Please pass the result to `transformed_cell` argument and any exception that happen during thetransform in `preprocessing_exc_tuple` in IPython 7.17 and above.\n",
      "  and should_run_async(code)\n"
     ]
    }
   ],
   "source": [
    "# CountVectorizer객체내의 전체 word들의 명칭을 get_features_names( )를 통해 추출\n",
    "feature_names = count_vectorizer.get_feature_names()\n",
    "\n",
    "# Topic별 가장 연관도가 높은 word를 10개만 추출\n",
    "display_topics(lda, feature_names, 20)"
   ]
  },
  {
   "cell_type": "code",
   "execution_count": 83,
   "id": "fbd2027c",
   "metadata": {},
   "outputs": [
    {
     "name": "stderr",
     "output_type": "stream",
     "text": [
      "/opt/conda/lib/python3.8/site-packages/ipykernel/ipkernel.py:283: DeprecationWarning: `should_run_async` will not call `transform_cell` automatically in the future. Please pass the result to `transformed_cell` argument and any exception that happen during thetransform in `preprocessing_exc_tuple` in IPython 7.17 and above.\n",
      "  and should_run_async(code)\n",
      "<ipython-input-83-ff3878a2ddab>:3: TqdmDeprecationWarning: This function will be removed in tqdm==5.0.0\n",
      "Please use `tqdm.notebook.tqdm` instead of `tqdm.tqdm_notebook`\n",
      "  for i in tqdm.tqdm_notebook(range(10, 25)):\n"
     ]
    },
    {
     "data": {
      "application/json": {
       "ascii": false,
       "bar_format": null,
       "colour": null,
       "elapsed": 0.026130199432373047,
       "initial": 0,
       "n": 0,
       "ncols": null,
       "nrows": null,
       "postfix": null,
       "prefix": "",
       "rate": null,
       "total": 15,
       "unit": "it",
       "unit_divisor": 1000,
       "unit_scale": false
      },
      "application/vnd.jupyter.widget-view+json": {
       "model_id": "b373ee84bf2a40f79579d63a464772e8",
       "version_major": 2,
       "version_minor": 0
      },
      "text/plain": [
       "  0%|          | 0/15 [00:00<?, ?it/s]"
      ]
     },
     "metadata": {},
     "output_type": "display_data"
    }
   ],
   "source": [
    "perplexity_values = []\n",
    "\n",
    "for i in tqdm.tqdm_notebook(range(10, 25)):\n",
    "  ldamodel = LatentDirichletAllocation(n_components=i).fit(feat_vect).perplexity(S_feat_vect)\n",
    "  perplexity_values.append(ldamodel)"
   ]
  },
  {
   "cell_type": "code",
   "execution_count": 84,
   "id": "eca4a2bd",
   "metadata": {},
   "outputs": [
    {
     "name": "stderr",
     "output_type": "stream",
     "text": [
      "/opt/conda/lib/python3.8/site-packages/ipykernel/ipkernel.py:283: DeprecationWarning: `should_run_async` will not call `transform_cell` automatically in the future. Please pass the result to `transformed_cell` argument and any exception that happen during thetransform in `preprocessing_exc_tuple` in IPython 7.17 and above.\n",
      "  and should_run_async(code)\n"
     ]
    },
    {
     "data": {
      "image/png": "[encoded data removed]",
      "text/plain": [
       "<Figure size 432x288 with 1 Axes>"
      ]
     },
     "metadata": {
      "needs_background": "light"
     },
     "output_type": "display_data"
    }
   ],
   "source": [
    "x = range(10, 25)\n",
    "plt.plot(x, perplexity_values)\n",
    "plt.show()"
   ]
  },
  {
   "cell_type": "code",
   "execution_count": 85,
   "id": "0136cf7e",
   "metadata": {},
   "outputs": [
    {
     "name": "stderr",
     "output_type": "stream",
     "text": [
      "/opt/conda/lib/python3.8/site-packages/ipykernel/ipkernel.py:283: DeprecationWarning: `should_run_async` will not call `transform_cell` automatically in the future. Please pass the result to `transformed_cell` argument and any exception that happen during thetransform in `preprocessing_exc_tuple` in IPython 7.17 and above.\n",
      "  and should_run_async(code)\n"
     ]
    },
    {
     "name": "stdout",
     "output_type": "stream",
     "text": [
      "Topic # 0\n",
      "전방 충돌 lte 흐름 안전성 전송 공사 네이버 gv70 측면 인공 지능 현대 기아차 컨트롤 스마트 덕분 반복 vehicle 보행자 sk브로드밴드 광주 인기 검토\n",
      "Topic # 1\n",
      "정비 동물 mou 진화 led sk v2x 항공기 변속기 mbps 기계 활성화 채널 선언 헬스 케어 평창 클라우드 쌍용차 아이 충전소\n",
      "Topic # 2\n",
      "촬영 플레이 테스트 연료 대전 모양 요소 마력 최대 현대 마음 이벤트 최고 출력 계기 중앙 가정 세련 플러스 대책 서비스 이용 충격\n",
      "Topic # 3\n",
      "소형 추월 수단 연간 백신 전파 보안 연계 수도 쇼핑 솔루션 제공 솔루션 자율주행 자율 번째 제동 가속 항공 내부 참석 전면\n",
      "Topic # 4\n",
      "지정 요청 감소 개인정보 타입 차지 이동 통신 작업 대전 레벨 자율 구동 달성 과학기술정보통신부 부회장 서울시 아이오닉 전문가들 보급 완화 지속\n",
      "Topic # 5\n",
      "주행 보조 미납 통행료 공장 다운로드 수집 인구 경부고속도로 대처 이름 우버 경매 보안 소개 행사 기사 하늘 비행 지적 전기차 충전 자원\n",
      "Topic # 6\n",
      "반영 추세 번째 ktx 매장 항공기 장점 기록 쌍용차 전기차 충전 위성 추석 추월 날씨 한계 그룹 기계 주차 아마존 금융\n",
      "Topic # 7\n",
      "오프라인 지도 사망자 지방 지분 비중 애플 빅데이터 목적 감소 사물인터넷 트림 커버리지 오토파일럿 비전 독일 연구소 사물 사건 현상\n",
      "Topic # 8\n",
      "클러스터 방안 커피 누적 혜택 결정 kg 시승 오른쪽 리터 위반 점검 진동 마력 반영 시티 vr 톨게이트 주행보조 공식\n",
      "Topic # 9\n",
      "코란도 도달 레이더 활성 위성 온도 제약 원인 전년 부회장 연속 하늘 비율 감소제 북한 세단 배달 스마트카 이스라엘 자회사\n",
      "Topic # 10\n",
      "sns 싼타페 인상 택시 무선 블록체인 무게 편의성 신호 ceo skt 신차 보상 인수 40 운전자 보조 상반기 바람 휴대폰 자연\n",
      "Topic # 11\n",
      "좌석 현황 인공 승차감 테스트 가죽 광고 현지 테마 효율적 표현 국민 박차 정지 느낌 재난 발굴 목적 운용 시간\n",
      "Topic # 12\n",
      "보안 소요 ict 스타트업 소독제 자동차 업체 전면 택시 마지막 방송 입장 나무 버전 자금 설립 크루즈 컨트롤 전면부 제동 미납 통행료 충돌 방지\n",
      "Topic # 13\n",
      "효율 영업 인도 도요타 바이오 발견 은행 공기 불법 제동 전면 사운드 제도 버전 포드 제약 원격 차선 변경 2025년 크루즈 컨트롤\n",
      "Topic # 14\n",
      "레벨3 법안 동의 프리미엄 중앙 유치 대한민국 그동안 가속 페달 금융 차별화 연료 결정 계기판 임베디드 버스 소비자들 티맵 애플 주행 트럭\n",
      "Topic # 15\n",
      "가상 연구원 프레스티지 시점 최소 석회 시야 콘텐트 논란 통신 서비스 신청 만족 불가능 나무 매체 탑승 동영상 차단 방침 디젤\n",
      "Topic # 16\n",
      "입장 자금 자동차 업체 드라이브 주차장 자동 변속기 자랑 매장 완성 업체 톨게이트 할인 완전 자율 설립 iot 사업 영위 뉴딜 대한민국 부회장 운전대 드라이빙\n",
      "Topic # 17\n",
      "동력 가속 반대 반도체 온라인 컬러 올림픽 감성 충돌 방지 가죽 기아차 세상 문자 수요 재난 화물차 주행 자동차 주행 보조 장거리 컴퓨터\n",
      "Topic # 18\n",
      "공공 거래 건물 수입 평소 주행 거리 영화 개통 발굴 타이어 건설 산업 혁명 uam 차로 건강 주행 차량 인프라 구축 국민 무선 시내\n"
     ]
    }
   ],
   "source": [
    "lda = LatentDirichletAllocation(n_components=19)\n",
    "lda.fit(S_feat_vect)\n",
    "\n",
    "display_topics(lda, feature_names, 20)"
   ]
  },
  {
   "cell_type": "markdown",
   "id": "afd0d6ea",
   "metadata": {},
   "source": [
    "### T(기술)"
   ]
  },
  {
   "cell_type": "code",
   "execution_count": 70,
   "id": "35242706",
   "metadata": {},
   "outputs": [
    {
     "name": "stderr",
     "output_type": "stream",
     "text": [
      "/opt/conda/lib/python3.8/site-packages/ipykernel/ipkernel.py:283: DeprecationWarning: `should_run_async` will not call `transform_cell` automatically in the future. Please pass the result to `transformed_cell` argument and any exception that happen during thetransform in `preprocessing_exc_tuple` in IPython 7.17 and above.\n",
      "  and should_run_async(code)\n"
     ]
    }
   ],
   "source": [
    "T_tokenized = [re.sub(',', ' ', T_df['키워드'][i]) for i in range(len(T_df))]\n",
    "T_feat_vect = count_vectorizer.fit_transform(T_tokenized)"
   ]
  },
  {
   "cell_type": "code",
   "execution_count": 71,
   "id": "85d5348b",
   "metadata": {},
   "outputs": [
    {
     "name": "stderr",
     "output_type": "stream",
     "text": [
      "/opt/conda/lib/python3.8/site-packages/ipykernel/ipkernel.py:283: DeprecationWarning: `should_run_async` will not call `transform_cell` automatically in the future. Please pass the result to `transformed_cell` argument and any exception that happen during thetransform in `preprocessing_exc_tuple` in IPython 7.17 and above.\n",
      "  and should_run_async(code)\n"
     ]
    },
    {
     "data": {
      "text/html": [
       "<style>#sk-container-id-6 {color: black;background-color: white;}#sk-container-id-6 pre{padding: 0;}#sk-container-id-6 div.sk-toggleable {background-color: white;}#sk-container-id-6 label.sk-toggleable__label {cursor: pointer;display: block;width: 100%;margin-bottom: 0;padding: 0.3em;box-sizing: border-box;text-align: center;}#sk-container-id-6 label.sk-toggleable__label-arrow:before {content: \"▸\";float: left;margin-right: 0.25em;color: #696969;}#sk-container-id-6 label.sk-toggleable__label-arrow:hover:before {color: black;}#sk-container-id-6 div.sk-estimator:hover label.sk-toggleable__label-arrow:before {color: black;}#sk-container-id-6 div.sk-toggleable__content {max-height: 0;max-width: 0;overflow: hidden;text-align: left;background-color: #f0f8ff;}#sk-container-id-6 div.sk-toggleable__content pre {margin: 0.2em;color: black;border-radius: 0.25em;background-color: #f0f8ff;}#sk-container-id-6 input.sk-toggleable__control:checked~div.sk-toggleable__content {max-height: 200px;max-width: 100%;overflow: auto;}#sk-container-id-6 input.sk-toggleable__control:checked~label.sk-toggleable__label-arrow:before {content: \"▾\";}#sk-container-id-6 div.sk-estimator input.sk-toggleable__control:checked~label.sk-toggleable__label {background-color: #d4ebff;}#sk-container-id-6 div.sk-label input.sk-toggleable__control:checked~label.sk-toggleable__label {background-color: #d4ebff;}#sk-container-id-6 input.sk-hidden--visually {border: 0;clip: rect(1px 1px 1px 1px);clip: rect(1px, 1px, 1px, 1px);height: 1px;margin: -1px;overflow: hidden;padding: 0;position: absolute;width: 1px;}#sk-container-id-6 div.sk-estimator {font-family: monospace;background-color: #f0f8ff;border: 1px dotted black;border-radius: 0.25em;box-sizing: border-box;margin-bottom: 0.5em;}#sk-container-id-6 div.sk-estimator:hover {background-color: #d4ebff;}#sk-container-id-6 div.sk-parallel-item::after {content: \"\";width: 100%;border-bottom: 1px solid gray;flex-grow: 1;}#sk-container-id-6 div.sk-label:hover label.sk-toggleable__label {background-color: #d4ebff;}#sk-container-id-6 div.sk-serial::before {content: \"\";position: absolute;border-left: 1px solid gray;box-sizing: border-box;top: 0;bottom: 0;left: 50%;z-index: 0;}#sk-container-id-6 div.sk-serial {display: flex;flex-direction: column;align-items: center;background-color: white;padding-right: 0.2em;padding-left: 0.2em;position: relative;}#sk-container-id-6 div.sk-item {position: relative;z-index: 1;}#sk-container-id-6 div.sk-parallel {display: flex;align-items: stretch;justify-content: center;background-color: white;position: relative;}#sk-container-id-6 div.sk-item::before, #sk-container-id-6 div.sk-parallel-item::before {content: \"\";position: absolute;border-left: 1px solid gray;box-sizing: border-box;top: 0;bottom: 0;left: 50%;z-index: -1;}#sk-container-id-6 div.sk-parallel-item {display: flex;flex-direction: column;z-index: 1;position: relative;background-color: white;}#sk-container-id-6 div.sk-parallel-item:first-child::after {align-self: flex-end;width: 50%;}#sk-container-id-6 div.sk-parallel-item:last-child::after {align-self: flex-start;width: 50%;}#sk-container-id-6 div.sk-parallel-item:only-child::after {width: 0;}#sk-container-id-6 div.sk-dashed-wrapped {border: 1px dashed gray;margin: 0 0.4em 0.5em 0.4em;box-sizing: border-box;padding-bottom: 0.4em;background-color: white;}#sk-container-id-6 div.sk-label label {font-family: monospace;font-weight: bold;display: inline-block;line-height: 1.2em;}#sk-container-id-6 div.sk-label-container {text-align: center;}#sk-container-id-6 div.sk-container {/* jupyter's `normalize.less` sets `[hidden] { display: none; }` but bootstrap.min.css set `[hidden] { display: none !important; }` so we also need the `!important` here to be able to override the default hidden behavior on the sphinx rendered scikit-learn.org. See: https://github.com/scikit-learn/scikit-learn/issues/21755 */display: inline-block !important;position: relative;}#sk-container-id-6 div.sk-text-repr-fallback {display: none;}</style><div id=\"sk-container-id-6\" class=\"sk-top-container\"><div class=\"sk-text-repr-fallback\"><pre>LatentDirichletAllocation(n_components=6)</pre><b>In a Jupyter environment, please rerun this cell to show the HTML representation or trust the notebook. <br />On GitHub, the HTML representation is unable to render, please try loading this page with nbviewer.org.</b></div><div class=\"sk-container\" hidden><div class=\"sk-item\"><div class=\"sk-estimator sk-toggleable\"><input class=\"sk-toggleable__control sk-hidden--visually\" id=\"sk-estimator-id-6\" type=\"checkbox\" checked><label for=\"sk-estimator-id-6\" class=\"sk-toggleable__label sk-toggleable__label-arrow\">LatentDirichletAllocation</label><div class=\"sk-toggleable__content\"><pre>LatentDirichletAllocation(n_components=6)</pre></div></div></div></div></div>"
      ],
      "text/plain": [
       "LatentDirichletAllocation(n_components=6)"
      ]
     },
     "execution_count": 71,
     "metadata": {},
     "output_type": "execute_result"
    }
   ],
   "source": [
    "lda = LatentDirichletAllocation(n_components=6)\n",
    "lda.fit(T_feat_vect)"
   ]
  },
  {
   "cell_type": "code",
   "execution_count": 72,
   "id": "9537bf86",
   "metadata": {},
   "outputs": [
    {
     "name": "stdout",
     "output_type": "stream",
     "text": [
      "Topic # 0\n",
      "가솔린 기아차 adas 제네시스 연비 아우디 스마트카 트림 하이브리드 솔루션 시트 느낌 신형 디스플레이 세단 버튼 고급 시승 기아 차체\n",
      "Topic # 1\n",
      "kt 결제 연휴 sk텔레콤 lte 점검 mbps 평균 품질 이용자 기지국 lg유플러스 경찰 넷플릭스 교통사고 요금 통행료 단속 트래픽 안내\n",
      "Topic # 2\n",
      "트럭 동물 현대모비스 방역 제조사 백신 의약품 영위 생석회 2019 제조 우주 테마 사업 영위 북한 위성 피해 동물 의약품 asf 예방\n",
      "Topic # 3\n",
      "도시 게임 콘텐츠 온라인 경제 과학 kt 혁명 삼성전자 교수 스타트업 사회 인간 vr 클라우드 선정 산업 혁명 일본 교육 ict\n",
      "Topic # 4\n",
      "테슬라 규제 주파수 애플 의료 대역 레벨 개인 정보 블록체인 대통령 경제 완전 자율 빅데이터 달러 가능성 구글 경매 정책 보호 병원\n",
      "Topic # 5\n",
      "드론 모빌리티 지도 택시 공급 현대차그룹 충전기 수소 수집 솔루션 에너지 레벨 모듈 미래차 ces 유럽 얼굴 충전소 올림픽 2025년\n"
     ]
    },
    {
     "name": "stderr",
     "output_type": "stream",
     "text": [
      "/opt/conda/lib/python3.8/site-packages/ipykernel/ipkernel.py:283: DeprecationWarning: `should_run_async` will not call `transform_cell` automatically in the future. Please pass the result to `transformed_cell` argument and any exception that happen during thetransform in `preprocessing_exc_tuple` in IPython 7.17 and above.\n",
      "  and should_run_async(code)\n"
     ]
    }
   ],
   "source": [
    "# CountVectorizer객체내의 전체 word들의 명칭을 get_features_names( )를 통해 추출\n",
    "feature_names = count_vectorizer.get_feature_names()\n",
    "\n",
    "# Topic별 가장 연관도가 높은 word를 10개만 추출\n",
    "display_topics(lda, feature_names, 20)"
   ]
  },
  {
   "cell_type": "code",
   "execution_count": 86,
   "id": "f3758b78",
   "metadata": {},
   "outputs": [
    {
     "name": "stderr",
     "output_type": "stream",
     "text": [
      "/opt/conda/lib/python3.8/site-packages/ipykernel/ipkernel.py:283: DeprecationWarning: `should_run_async` will not call `transform_cell` automatically in the future. Please pass the result to `transformed_cell` argument and any exception that happen during thetransform in `preprocessing_exc_tuple` in IPython 7.17 and above.\n",
      "  and should_run_async(code)\n",
      "<ipython-input-86-b261ddd55712>:3: TqdmDeprecationWarning: This function will be removed in tqdm==5.0.0\n",
      "Please use `tqdm.notebook.tqdm` instead of `tqdm.tqdm_notebook`\n",
      "  for i in tqdm.tqdm_notebook(range(10, 25)):\n"
     ]
    },
    {
     "data": {
      "application/json": {
       "ascii": false,
       "bar_format": null,
       "colour": null,
       "elapsed": 0.04089546203613281,
       "initial": 0,
       "n": 0,
       "ncols": null,
       "nrows": null,
       "postfix": null,
       "prefix": "",
       "rate": null,
       "total": 15,
       "unit": "it",
       "unit_divisor": 1000,
       "unit_scale": false
      },
      "application/vnd.jupyter.widget-view+json": {
       "model_id": "b982848f94fe4587a82cae2ed6ab2458",
       "version_major": 2,
       "version_minor": 0
      },
      "text/plain": [
       "  0%|          | 0/15 [00:00<?, ?it/s]"
      ]
     },
     "metadata": {},
     "output_type": "display_data"
    }
   ],
   "source": [
    "perplexity_values = []\n",
    "\n",
    "for i in tqdm.tqdm_notebook(range(10, 25)):\n",
    "  ldamodel = LatentDirichletAllocation(n_components=i).fit(feat_vect).perplexity(T_feat_vect)\n",
    "  perplexity_values.append(ldamodel)"
   ]
  },
  {
   "cell_type": "code",
   "execution_count": 87,
   "id": "a2bed75d",
   "metadata": {},
   "outputs": [
    {
     "name": "stderr",
     "output_type": "stream",
     "text": [
      "/opt/conda/lib/python3.8/site-packages/ipykernel/ipkernel.py:283: DeprecationWarning: `should_run_async` will not call `transform_cell` automatically in the future. Please pass the result to `transformed_cell` argument and any exception that happen during thetransform in `preprocessing_exc_tuple` in IPython 7.17 and above.\n",
      "  and should_run_async(code)\n"
     ]
    },
    {
     "data": {
      "image/png": "[encoded data removed]",
      "text/plain": [
       "<Figure size 432x288 with 1 Axes>"
      ]
     },
     "metadata": {
      "needs_background": "light"
     },
     "output_type": "display_data"
    }
   ],
   "source": [
    "x = range(10, 25)\n",
    "plt.plot(x, perplexity_values)\n",
    "plt.show()"
   ]
  },
  {
   "cell_type": "code",
   "execution_count": 88,
   "id": "d0484e52",
   "metadata": {},
   "outputs": [
    {
     "name": "stderr",
     "output_type": "stream",
     "text": [
      "/opt/conda/lib/python3.8/site-packages/ipykernel/ipkernel.py:283: DeprecationWarning: `should_run_async` will not call `transform_cell` automatically in the future. Please pass the result to `transformed_cell` argument and any exception that happen during thetransform in `preprocessing_exc_tuple` in IPython 7.17 and above.\n",
      "  and should_run_async(code)\n"
     ]
    },
    {
     "name": "stdout",
     "output_type": "stream",
     "text": [
      "Topic # 0\n",
      "클러스터 반영 매장 할인 혜택 전기차 충전 iot 소독제 자동차 업체 오른쪽 설립 자금 입장 무게 주행보조 위성 자율주행 자율 시동 방안 40\n",
      "Topic # 1\n",
      "입장 자금 자동차 업체 드라이브 주차장 자동 변속기 자랑 완성 업체 완전 자율 사업 영위 뉴딜 사양 드라이빙 부회장 매장 개방 대한민국 코로나 운전대 국민\n",
      "Topic # 2\n",
      "프레스티지 대한민국 국토부 택시 편의성 ceo 무료 로보택시 skt 출력 마력 무상 등록 tv 장거리 자원 보상 중형 공조 납부 진출\n",
      "Topic # 3\n",
      "톨게이트 ktx 누적 트렁크 운전자 개입 스마트카 lg 현대자동차 문자 기지국 주도 배치 반영 연휴 대표적 정책 클러스터 다운로드 kt 트럭\n",
      "Topic # 4\n",
      "지도 지방 지분 건물 비중 목적 요청 독일 별도 애플 우버 건설 사물인터넷 사망자 커버리지 오토파일럿 네이버 신고 시험 광주\n",
      "Topic # 5\n",
      "동력 보안 소요 스타트업 ict 마지막 전면 충돌 방지 소독제 자동차 업체 택시 입장 설립 크루즈 컨트롤 버전 자금 나무 전면부 제동 제약\n",
      "Topic # 6\n",
      "연료 촬영 결정 레벨3 계기판 최고 출력 충격 표현 레이더 가죽 프리미엄 교육 느낌 점검 광고 라이다 연비 온도 마음 유튜브\n",
      "Topic # 7\n",
      "효율 플레이 현황 동의 번째 정지 현대 테스트 공기 구동 인도 가정 요소 대처 시동 의약품 작업 노블레스 비율 승차감\n",
      "Topic # 8\n",
      "기록 한계 방지 보조 먼지 발굴 한국도로공사 심사 전문 업체 카페 유통 자율주행 자율 정체 고도화 치료제 자유 나무 만족 스타일 이야기 예측\n",
      "Topic # 9\n",
      "소형 추월 수단 추세 연간 백신 보안 전파 연계 수도 쇼핑 장점 추석 솔루션 제공 항공 무게 자율주행 자율 솔루션 제동 번째\n",
      "Topic # 10\n",
      "미납 통행료 좌석 도요타 바이오 발견 제약 은행 제동 제도 영업 사운드 소개 포드 전면 버전 효율적 2025년 불법 우버 크루즈 컨트롤\n",
      "Topic # 11\n",
      "인도 공공 평소 학습 영화 활성 차로 하늘 수입 차선 변경 차별화 상반기 비율 무선 차체 경로 uam 경매 핸들 확산\n",
      "Topic # 12\n",
      "sns 방송 법안 인상 가속 페달 유치 버스 임베디드 소비자들 신차 타입 개인정보 그동안 개최 감소제 비전 세계 최고 부회장 인프라 구축 휴대폰\n",
      "Topic # 13\n",
      "동물 정비 sk 진화 거래 영업 v2x 주행 거리 항공기 채널 활성화 선언 주행 모드 기계 헬스 케어 평창 클라우드 타이어 법인 계약\n",
      "Topic # 14\n",
      "주행 보조 공장 안전성 인구 수집 지정 경부고속도로 특성 영역 질문 보급 다운로드 침해 재난 vr 모터 수요 표준 가죽 실증\n",
      "Topic # 15\n",
      "테스트 대전 촬영 인공 모양 이벤트 중앙 마력 최대 플레이 대책 일본 세련 요소 인수 보상 아이오닉 규정 바람 서비스 이용 테슬라\n",
      "Topic # 16\n",
      "오프라인 전방 충돌 lte 흐름 전송 감소 공사 보행자 인공 지능 측면 현대 기아차 덕분 컨트롤 스마트 gv70 네이버 sk브로드밴드 모터 vehicle 스마트 크루즈 광주\n",
      "Topic # 17\n",
      "가상 정비 콘텐트 통신 서비스 불가능 연구원 석회 시점 최소 신청 동영상 탑승 매체 프레스티지 나무 디젤 mou 책임 정책 이용자\n",
      "Topic # 18\n",
      "코란도 컬러 가속 전년 자회사 다운로드 기아차 반대 반도체 온라인 원격 올림픽 위성 작성 원인 도달 배달 주행 자동차 컴퓨터 부족\n",
      "Topic # 19\n",
      "시승 시야 kg 반영 변속기 방안 만족 커피 세상 논란 가량 진동 복합 led 쌍용차 운전대 경찰 차단 발사 운전석\n"
     ]
    }
   ],
   "source": [
    "lda = LatentDirichletAllocation(n_components=20)\n",
    "lda.fit(S_feat_vect)\n",
    "\n",
    "display_topics(lda, feature_names, 20)"
   ]
  },
  {
   "cell_type": "code",
   "execution_count": null,
   "id": "7f3af81a",
   "metadata": {},
   "outputs": [],
   "source": []
  }
 ],
 "metadata": {
  "kernelspec": {
   "display_name": "Python 3",
   "language": "python",
   "name": "python3"
  },
  "language_info": {
   "codemirror_mode": {
    "name": "ipython",
    "version": 3
   },
   "file_extension": ".py",
   "mimetype": "text/x-python",
   "name": "python",
   "nbconvert_exporter": "python",
   "pygments_lexer": "ipython3",
   "version": "3.8.8"
  }
 },
 "nbformat": 4,
 "nbformat_minor": 5
}
